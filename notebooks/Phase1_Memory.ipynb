{
 "cells": [
  {
   "cell_type": "code",
   "execution_count": 4,
   "id": "23ec247a",
   "metadata": {
    "vscode": {
     "languageId": "plaintext"
    }
   },
   "outputs": [
    {
     "name": "stdout",
     "output_type": "stream",
     "text": [
      "[WinError 2] The system cannot find the file specified: 'persistent-generative-scenes'\n",
      "C:\\Users\\asare\\Documents\\GitHub\\food-funding-app\\persistent-generative-scenes\n",
      "Defaulting to user installation because normal site-packages is not writeable\n",
      "Requirement already satisfied: torch in c:\\users\\asare\\appdata\\roaming\\python\\python312\\site-packages (from -r requirements.txt (line 1)) (2.6.0)\n",
      "Requirement already satisfied: torchvision in c:\\users\\asare\\appdata\\roaming\\python\\python312\\site-packages (from -r requirements.txt (line 2)) (0.21.0)\n",
      "Requirement already satisfied: diffusers in c:\\users\\asare\\appdata\\roaming\\python\\python312\\site-packages (from -r requirements.txt (line 3)) (0.33.1)\n",
      "Requirement already satisfied: accelerate in c:\\users\\asare\\appdata\\roaming\\python\\python312\\site-packages (from -r requirements.txt (line 4)) (1.6.0)\n",
      "Requirement already satisfied: open3d in c:\\users\\asare\\appdata\\roaming\\python\\python312\\site-packages (from -r requirements.txt (line 5)) (0.19.0)\n",
      "Requirement already satisfied: numpy in c:\\users\\asare\\appdata\\roaming\\python\\python312\\site-packages (from -r requirements.txt (line 6)) (2.2.5)\n",
      "Requirement already satisfied: matplotlib in c:\\users\\asare\\appdata\\roaming\\python\\python312\\site-packages (from -r requirements.txt (line 7)) (3.10.3)\n",
      "Requirement already satisfied: scikit-image in c:\\users\\asare\\appdata\\roaming\\python\\python312\\site-packages (from -r requirements.txt (line 8)) (0.25.2)\n",
      "Requirement already satisfied: wandb in c:\\users\\asare\\appdata\\roaming\\python\\python312\\site-packages (from -r requirements.txt (line 9)) (0.19.11)\n",
      "Requirement already satisfied: omegaconf in c:\\users\\asare\\appdata\\roaming\\python\\python312\\site-packages (from -r requirements.txt (line 10)) (2.3.0)\n",
      "Requirement already satisfied: filelock in c:\\users\\asare\\appdata\\roaming\\python\\python312\\site-packages (from torch->-r requirements.txt (line 1)) (3.18.0)\n",
      "Requirement already satisfied: typing-extensions>=4.10.0 in c:\\users\\asare\\appdata\\roaming\\python\\python312\\site-packages (from torch->-r requirements.txt (line 1)) (4.12.2)\n",
      "Requirement already satisfied: networkx in c:\\users\\asare\\appdata\\roaming\\python\\python312\\site-packages (from torch->-r requirements.txt (line 1)) (3.4.2)\n",
      "Requirement already satisfied: jinja2 in c:\\users\\asare\\appdata\\roaming\\python\\python312\\site-packages (from torch->-r requirements.txt (line 1)) (3.1.6)\n",
      "Requirement already satisfied: fsspec in c:\\users\\asare\\appdata\\roaming\\python\\python312\\site-packages (from torch->-r requirements.txt (line 1)) (2025.3.2)\n",
      "Requirement already satisfied: setuptools in c:\\users\\asare\\appdata\\roaming\\python\\python312\\site-packages (from torch->-r requirements.txt (line 1)) (80.1.0)\n",
      "Requirement already satisfied: sympy==1.13.1 in c:\\users\\asare\\appdata\\roaming\\python\\python312\\site-packages (from torch->-r requirements.txt (line 1)) (1.13.1)\n",
      "Requirement already satisfied: mpmath<1.4,>=1.1.0 in c:\\users\\asare\\appdata\\roaming\\python\\python312\\site-packages (from sympy==1.13.1->torch->-r requirements.txt (line 1)) (1.3.0)\n",
      "Requirement already satisfied: pillow!=8.3.*,>=5.3.0 in c:\\users\\asare\\appdata\\roaming\\python\\python312\\site-packages (from torchvision->-r requirements.txt (line 2)) (11.2.1)\n",
      "Requirement already satisfied: importlib-metadata in c:\\users\\asare\\appdata\\roaming\\python\\python312\\site-packages (from diffusers->-r requirements.txt (line 3)) (8.7.0)\n",
      "Requirement already satisfied: huggingface-hub>=0.27.0 in c:\\users\\asare\\appdata\\roaming\\python\\python312\\site-packages (from diffusers->-r requirements.txt (line 3)) (0.31.1)\n",
      "Requirement already satisfied: regex!=2019.12.17 in c:\\users\\asare\\appdata\\roaming\\python\\python312\\site-packages (from diffusers->-r requirements.txt (line 3)) (2024.11.6)\n",
      "Requirement already satisfied: requests in c:\\users\\asare\\appdata\\roaming\\python\\python312\\site-packages (from diffusers->-r requirements.txt (line 3)) (2.32.3)\n",
      "Requirement already satisfied: safetensors>=0.3.1 in c:\\users\\asare\\appdata\\roaming\\python\\python312\\site-packages (from diffusers->-r requirements.txt (line 3)) (0.5.3)\n",
      "Requirement already satisfied: packaging>=20.0 in c:\\users\\asare\\appdata\\roaming\\python\\python312\\site-packages (from accelerate->-r requirements.txt (line 4)) (24.2)\n",
      "Requirement already satisfied: psutil in c:\\users\\asare\\appdata\\roaming\\python\\python312\\site-packages (from accelerate->-r requirements.txt (line 4)) (7.0.0)\n",
      "Requirement already satisfied: pyyaml in c:\\users\\asare\\appdata\\roaming\\python\\python312\\site-packages (from accelerate->-r requirements.txt (line 4)) (6.0.2)\n",
      "Requirement already satisfied: dash>=2.6.0 in c:\\users\\asare\\appdata\\roaming\\python\\python312\\site-packages (from open3d->-r requirements.txt (line 5)) (3.0.4)\n",
      "Requirement already satisfied: werkzeug>=3.0.0 in c:\\users\\asare\\appdata\\roaming\\python\\python312\\site-packages (from open3d->-r requirements.txt (line 5)) (3.0.6)\n",
      "Requirement already satisfied: flask>=3.0.0 in c:\\users\\asare\\appdata\\roaming\\python\\python312\\site-packages (from open3d->-r requirements.txt (line 5)) (3.0.3)\n",
      "Requirement already satisfied: nbformat>=5.7.0 in c:\\users\\asare\\appdata\\roaming\\python\\python312\\site-packages (from open3d->-r requirements.txt (line 5)) (5.10.4)\n",
      "Requirement already satisfied: configargparse in c:\\users\\asare\\appdata\\roaming\\python\\python312\\site-packages (from open3d->-r requirements.txt (line 5)) (1.7)\n",
      "Requirement already satisfied: ipywidgets>=8.0.4 in c:\\users\\asare\\appdata\\roaming\\python\\python312\\site-packages (from open3d->-r requirements.txt (line 5)) (8.1.5)\n",
      "Requirement already satisfied: contourpy>=1.0.1 in c:\\users\\asare\\appdata\\roaming\\python\\python312\\site-packages (from matplotlib->-r requirements.txt (line 7)) (1.3.2)\n",
      "Requirement already satisfied: cycler>=0.10 in c:\\users\\asare\\appdata\\roaming\\python\\python312\\site-packages (from matplotlib->-r requirements.txt (line 7)) (0.12.1)\n",
      "Requirement already satisfied: fonttools>=4.22.0 in c:\\users\\asare\\appdata\\roaming\\python\\python312\\site-packages (from matplotlib->-r requirements.txt (line 7)) (4.58.0)\n",
      "Requirement already satisfied: kiwisolver>=1.3.1 in c:\\users\\asare\\appdata\\roaming\\python\\python312\\site-packages (from matplotlib->-r requirements.txt (line 7)) (1.4.8)\n",
      "Requirement already satisfied: pyparsing>=2.3.1 in c:\\users\\asare\\appdata\\roaming\\python\\python312\\site-packages (from matplotlib->-r requirements.txt (line 7)) (3.2.3)\n",
      "Requirement already satisfied: python-dateutil>=2.7 in c:\\users\\asare\\appdata\\roaming\\python\\python312\\site-packages (from matplotlib->-r requirements.txt (line 7)) (2.9.0.post0)\n",
      "Requirement already satisfied: scipy>=1.11.4 in c:\\users\\asare\\appdata\\roaming\\python\\python312\\site-packages (from scikit-image->-r requirements.txt (line 8)) (1.15.2)\n",
      "Requirement already satisfied: imageio!=2.35.0,>=2.33 in c:\\users\\asare\\appdata\\roaming\\python\\python312\\site-packages (from scikit-image->-r requirements.txt (line 8)) (2.37.0)\n",
      "Requirement already satisfied: tifffile>=2022.8.12 in c:\\users\\asare\\appdata\\roaming\\python\\python312\\site-packages (from scikit-image->-r requirements.txt (line 8)) (2025.5.10)\n",
      "Requirement already satisfied: lazy-loader>=0.4 in c:\\users\\asare\\appdata\\roaming\\python\\python312\\site-packages (from scikit-image->-r requirements.txt (line 8)) (0.4)\n",
      "Requirement already satisfied: click!=8.0.0,>=7.1 in c:\\users\\asare\\appdata\\roaming\\python\\python312\\site-packages (from wandb->-r requirements.txt (line 9)) (8.1.7)\n",
      "Requirement already satisfied: docker-pycreds>=0.4.0 in c:\\users\\asare\\appdata\\roaming\\python\\python312\\site-packages (from wandb->-r requirements.txt (line 9)) (0.4.0)\n",
      "Requirement already satisfied: gitpython!=3.1.29,>=1.0.0 in c:\\users\\asare\\appdata\\roaming\\python\\python312\\site-packages (from wandb->-r requirements.txt (line 9)) (3.1.44)\n",
      "Requirement already satisfied: platformdirs in c:\\users\\asare\\appdata\\roaming\\python\\python312\\site-packages (from wandb->-r requirements.txt (line 9)) (4.3.6)\n",
      "Requirement already satisfied: protobuf!=4.21.0,!=5.28.0,<7,>=3.19.0 in c:\\users\\asare\\appdata\\roaming\\python\\python312\\site-packages (from wandb->-r requirements.txt (line 9)) (5.28.3)\n",
      "Requirement already satisfied: pydantic<3 in c:\\users\\asare\\appdata\\roaming\\python\\python312\\site-packages (from wandb->-r requirements.txt (line 9)) (2.11.4)\n",
      "Requirement already satisfied: sentry-sdk>=2.0.0 in c:\\users\\asare\\appdata\\roaming\\python\\python312\\site-packages (from wandb->-r requirements.txt (line 9)) (2.27.0)\n",
      "Requirement already satisfied: setproctitle in c:\\users\\asare\\appdata\\roaming\\python\\python312\\site-packages (from wandb->-r requirements.txt (line 9)) (1.3.6)\n",
      "Requirement already satisfied: antlr4-python3-runtime==4.9.* in c:\\users\\asare\\appdata\\roaming\\python\\python312\\site-packages (from omegaconf->-r requirements.txt (line 10)) (4.9.3)\n",
      "Requirement already satisfied: colorama in c:\\users\\asare\\appdata\\roaming\\python\\python312\\site-packages (from click!=8.0.0,>=7.1->wandb->-r requirements.txt (line 9)) (0.4.6)\n",
      "Requirement already satisfied: plotly>=5.0.0 in c:\\users\\asare\\appdata\\roaming\\python\\python312\\site-packages (from dash>=2.6.0->open3d->-r requirements.txt (line 5)) (6.0.1)\n",
      "Requirement already satisfied: retrying in c:\\users\\asare\\appdata\\roaming\\python\\python312\\site-packages (from dash>=2.6.0->open3d->-r requirements.txt (line 5)) (1.3.4)\n",
      "Requirement already satisfied: nest-asyncio in c:\\users\\asare\\appdata\\roaming\\python\\python312\\site-packages (from dash>=2.6.0->open3d->-r requirements.txt (line 5)) (1.6.0)\n",
      "Requirement already satisfied: six>=1.4.0 in c:\\users\\asare\\appdata\\roaming\\python\\python312\\site-packages (from docker-pycreds>=0.4.0->wandb->-r requirements.txt (line 9)) (1.17.0)\n",
      "Requirement already satisfied: itsdangerous>=2.1.2 in c:\\users\\asare\\appdata\\roaming\\python\\python312\\site-packages (from flask>=3.0.0->open3d->-r requirements.txt (line 5)) (2.2.0)\n",
      "Requirement already satisfied: blinker>=1.6.2 in c:\\users\\asare\\appdata\\roaming\\python\\python312\\site-packages (from flask>=3.0.0->open3d->-r requirements.txt (line 5)) (1.8.2)\n",
      "Requirement already satisfied: gitdb<5,>=4.0.1 in c:\\users\\asare\\appdata\\roaming\\python\\python312\\site-packages (from gitpython!=3.1.29,>=1.0.0->wandb->-r requirements.txt (line 9)) (4.0.12)\n",
      "Requirement already satisfied: tqdm>=4.42.1 in c:\\users\\asare\\appdata\\roaming\\python\\python312\\site-packages (from huggingface-hub>=0.27.0->diffusers->-r requirements.txt (line 3)) (4.67.1)\n",
      "Requirement already satisfied: comm>=0.1.3 in c:\\users\\asare\\appdata\\roaming\\python\\python312\\site-packages (from ipywidgets>=8.0.4->open3d->-r requirements.txt (line 5)) (0.2.2)\n",
      "Requirement already satisfied: ipython>=6.1.0 in c:\\users\\asare\\appdata\\roaming\\python\\python312\\site-packages (from ipywidgets>=8.0.4->open3d->-r requirements.txt (line 5)) (9.2.0)\n",
      "Requirement already satisfied: traitlets>=4.3.1 in c:\\users\\asare\\appdata\\roaming\\python\\python312\\site-packages (from ipywidgets>=8.0.4->open3d->-r requirements.txt (line 5)) (5.14.3)\n",
      "Requirement already satisfied: widgetsnbextension~=4.0.12 in c:\\users\\asare\\appdata\\roaming\\python\\python312\\site-packages (from ipywidgets>=8.0.4->open3d->-r requirements.txt (line 5)) (4.0.13)\n",
      "Requirement already satisfied: jupyterlab-widgets~=3.0.12 in c:\\users\\asare\\appdata\\roaming\\python\\python312\\site-packages (from ipywidgets>=8.0.4->open3d->-r requirements.txt (line 5)) (3.0.13)\n",
      "Requirement already satisfied: MarkupSafe>=2.0 in c:\\users\\asare\\appdata\\roaming\\python\\python312\\site-packages (from jinja2->torch->-r requirements.txt (line 1)) (3.0.2)\n",
      "Requirement already satisfied: fastjsonschema>=2.15 in c:\\users\\asare\\appdata\\roaming\\python\\python312\\site-packages (from nbformat>=5.7.0->open3d->-r requirements.txt (line 5)) (2.21.1)\n",
      "Requirement already satisfied: jsonschema>=2.6 in c:\\users\\asare\\appdata\\roaming\\python\\python312\\site-packages (from nbformat>=5.7.0->open3d->-r requirements.txt (line 5)) (4.23.0)\n",
      "Requirement already satisfied: jupyter-core!=5.0.*,>=4.12 in c:\\users\\asare\\appdata\\roaming\\python\\python312\\site-packages (from nbformat>=5.7.0->open3d->-r requirements.txt (line 5)) (5.7.2)\n",
      "Requirement already satisfied: annotated-types>=0.6.0 in c:\\users\\asare\\appdata\\roaming\\python\\python312\\site-packages (from pydantic<3->wandb->-r requirements.txt (line 9)) (0.7.0)\n",
      "Requirement already satisfied: pydantic-core==2.33.2 in c:\\users\\asare\\appdata\\roaming\\python\\python312\\site-packages (from pydantic<3->wandb->-r requirements.txt (line 9)) (2.33.2)\n",
      "Requirement already satisfied: typing-inspection>=0.4.0 in c:\\users\\asare\\appdata\\roaming\\python\\python312\\site-packages (from pydantic<3->wandb->-r requirements.txt (line 9)) (0.4.0)\n",
      "Requirement already satisfied: charset-normalizer<4,>=2 in c:\\users\\asare\\appdata\\roaming\\python\\python312\\site-packages (from requests->diffusers->-r requirements.txt (line 3)) (3.4.0)\n",
      "Requirement already satisfied: idna<4,>=2.5 in c:\\users\\asare\\appdata\\roaming\\python\\python312\\site-packages (from requests->diffusers->-r requirements.txt (line 3)) (2.10)\n",
      "Requirement already satisfied: urllib3<3,>=1.21.1 in c:\\users\\asare\\appdata\\roaming\\python\\python312\\site-packages (from requests->diffusers->-r requirements.txt (line 3)) (2.2.3)\n",
      "Requirement already satisfied: certifi>=2017.4.17 in c:\\users\\asare\\appdata\\roaming\\python\\python312\\site-packages (from requests->diffusers->-r requirements.txt (line 3)) (2025.1.31)\n",
      "Requirement already satisfied: zipp>=3.20 in c:\\users\\asare\\appdata\\roaming\\python\\python312\\site-packages (from importlib-metadata->diffusers->-r requirements.txt (line 3)) (3.21.0)\n",
      "Requirement already satisfied: smmap<6,>=3.0.1 in c:\\users\\asare\\appdata\\roaming\\python\\python312\\site-packages (from gitdb<5,>=4.0.1->gitpython!=3.1.29,>=1.0.0->wandb->-r requirements.txt (line 9)) (5.0.2)\n",
      "Requirement already satisfied: decorator in c:\\users\\asare\\appdata\\roaming\\python\\python312\\site-packages (from ipython>=6.1.0->ipywidgets>=8.0.4->open3d->-r requirements.txt (line 5)) (5.2.1)\n",
      "Requirement already satisfied: ipython-pygments-lexers in c:\\users\\asare\\appdata\\roaming\\python\\python312\\site-packages (from ipython>=6.1.0->ipywidgets>=8.0.4->open3d->-r requirements.txt (line 5)) (1.1.1)\n",
      "Requirement already satisfied: jedi>=0.16 in c:\\users\\asare\\appdata\\roaming\\python\\python312\\site-packages (from ipython>=6.1.0->ipywidgets>=8.0.4->open3d->-r requirements.txt (line 5)) (0.19.2)\n",
      "Requirement already satisfied: matplotlib-inline in c:\\users\\asare\\appdata\\roaming\\python\\python312\\site-packages (from ipython>=6.1.0->ipywidgets>=8.0.4->open3d->-r requirements.txt (line 5)) (0.1.7)\n",
      "Requirement already satisfied: prompt_toolkit<3.1.0,>=3.0.41 in c:\\users\\asare\\appdata\\roaming\\python\\python312\\site-packages (from ipython>=6.1.0->ipywidgets>=8.0.4->open3d->-r requirements.txt (line 5)) (3.0.50)\n",
      "Requirement already satisfied: pygments>=2.4.0 in c:\\users\\asare\\appdata\\roaming\\python\\python312\\site-packages (from ipython>=6.1.0->ipywidgets>=8.0.4->open3d->-r requirements.txt (line 5)) (2.19.1)\n",
      "Requirement already satisfied: stack_data in c:\\users\\asare\\appdata\\roaming\\python\\python312\\site-packages (from ipython>=6.1.0->ipywidgets>=8.0.4->open3d->-r requirements.txt (line 5)) (0.6.3)\n",
      "Requirement already satisfied: attrs>=22.2.0 in c:\\users\\asare\\appdata\\roaming\\python\\python312\\site-packages (from jsonschema>=2.6->nbformat>=5.7.0->open3d->-r requirements.txt (line 5)) (24.2.0)\n",
      "Requirement already satisfied: jsonschema-specifications>=2023.03.6 in c:\\users\\asare\\appdata\\roaming\\python\\python312\\site-packages (from jsonschema>=2.6->nbformat>=5.7.0->open3d->-r requirements.txt (line 5)) (2024.10.1)\n",
      "Requirement already satisfied: referencing>=0.28.4 in c:\\users\\asare\\appdata\\roaming\\python\\python312\\site-packages (from jsonschema>=2.6->nbformat>=5.7.0->open3d->-r requirements.txt (line 5)) (0.36.2)\n",
      "Requirement already satisfied: rpds-py>=0.7.1 in c:\\users\\asare\\appdata\\roaming\\python\\python312\\site-packages (from jsonschema>=2.6->nbformat>=5.7.0->open3d->-r requirements.txt (line 5)) (0.23.1)\n",
      "Requirement already satisfied: pywin32>=300 in c:\\users\\asare\\appdata\\roaming\\python\\python312\\site-packages (from jupyter-core!=5.0.*,>=4.12->nbformat>=5.7.0->open3d->-r requirements.txt (line 5)) (308)\n",
      "Requirement already satisfied: narwhals>=1.15.1 in c:\\users\\asare\\appdata\\roaming\\python\\python312\\site-packages (from plotly>=5.0.0->dash>=2.6.0->open3d->-r requirements.txt (line 5)) (1.38.2)\n",
      "Requirement already satisfied: parso<0.9.0,>=0.8.4 in c:\\users\\asare\\appdata\\roaming\\python\\python312\\site-packages (from jedi>=0.16->ipython>=6.1.0->ipywidgets>=8.0.4->open3d->-r requirements.txt (line 5)) (0.8.4)\n",
      "Requirement already satisfied: wcwidth in c:\\users\\asare\\appdata\\roaming\\python\\python312\\site-packages (from prompt_toolkit<3.1.0,>=3.0.41->ipython>=6.1.0->ipywidgets>=8.0.4->open3d->-r requirements.txt (line 5)) (0.2.13)\n",
      "Requirement already satisfied: executing>=1.2.0 in c:\\users\\asare\\appdata\\roaming\\python\\python312\\site-packages (from stack_data->ipython>=6.1.0->ipywidgets>=8.0.4->open3d->-r requirements.txt (line 5)) (2.2.0)\n",
      "Requirement already satisfied: asttokens>=2.1.0 in c:\\users\\asare\\appdata\\roaming\\python\\python312\\site-packages (from stack_data->ipython>=6.1.0->ipywidgets>=8.0.4->open3d->-r requirements.txt (line 5)) (3.0.0)\n",
      "Requirement already satisfied: pure-eval in c:\\users\\asare\\appdata\\roaming\\python\\python312\\site-packages (from stack_data->ipython>=6.1.0->ipywidgets>=8.0.4->open3d->-r requirements.txt (line 5)) (0.2.3)\n"
     ]
    },
    {
     "name": "stderr",
     "output_type": "stream",
     "text": [
      "WARNING: Ignoring invalid distribution ~ransformers (C:\\Users\\asare\\AppData\\Roaming\\Python\\Python312\\site-packages)\n",
      "WARNING: Ignoring invalid distribution ~ransformers (C:\\Users\\asare\\AppData\\Roaming\\Python\\Python312\\site-packages)\n",
      "WARNING: Ignoring invalid distribution ~ransformers (C:\\Users\\asare\\AppData\\Roaming\\Python\\Python312\\site-packages)\n",
      "WARNING: Ignoring invalid distribution ~ransformers (C:\\Users\\asare\\AppData\\Roaming\\Python\\Python312\\site-packages)\n",
      "WARNING: Ignoring invalid distribution ~ransformers (C:\\Users\\asare\\AppData\\Roaming\\Python\\Python312\\site-packages)\n",
      "\n",
      "[notice] A new release of pip is available: 24.2 -> 25.1.1\n",
      "[notice] To update, run: python.exe -m pip install --upgrade pip\n"
     ]
    }
   ],
   "source": [
    "# Clone your GitHub repo\n",
    "#!git clone https://github.com/joachimasare/persistent-generative-scenes.git\n",
    "%cd persistent-generative-scenes\n",
    "\n",
    "# Install dependencies\n",
    "!pip install -r requirements.txt\n"
   ]
  },
  {
   "cell_type": "code",
   "execution_count": 3,
   "id": "3cc45571-bb6b-4b19-8304-a5367826347c",
   "metadata": {},
   "outputs": [
    {
     "name": "stdout",
     "output_type": "stream",
     "text": [
      "Project root is: C:\\Users\\asare\\Documents\\GitHub\\food-funding-app\\persistent-generative-scenes\n",
      "sys.path[0] = C:\\Users\\asare\\Documents\\GitHub\\food-funding-app\\persistent-generative-scenes\n"
     ]
    }
   ],
   "source": [
    "# Cell 1: 📁 Jump to project root & expose it to Python\n",
    "\n",
    "import os, sys\n",
    "\n",
    "# If we're inside the notebooks/ folder, go up one level:\n",
    "if os.path.basename(os.getcwd()) == \"notebooks\":\n",
    "    os.chdir(os.path.join(os.getcwd(), os.pardir))\n",
    "\n",
    "# Now cwd should be the folder that contains src/, scripts/, requirements.txt\n",
    "print(\"Project root is:\", os.getcwd())\n",
    "\n",
    "# Prepend it to sys.path so `import src...` and `import scripts...` work:\n",
    "sys.path.insert(0, os.getcwd())\n",
    "print(\"sys.path[0] =\", sys.path[0])\n"
   ]
  },
  {
   "cell_type": "code",
   "execution_count": 4,
   "id": "b8474c14",
   "metadata": {
    "vscode": {
     "languageId": "plaintext"
    }
   },
   "outputs": [
    {
     "ename": "ModuleNotFoundError",
     "evalue": "No module named 'src.memory'",
     "output_type": "error",
     "traceback": [
      "\u001b[31m---------------------------------------------------------------------------\u001b[39m",
      "\u001b[31mModuleNotFoundError\u001b[39m                       Traceback (most recent call last)",
      "\u001b[36mCell\u001b[39m\u001b[36m \u001b[39m\u001b[32mIn[4]\u001b[39m\u001b[32m, line 4\u001b[39m\n\u001b[32m      2\u001b[39m \u001b[38;5;28;01mimport\u001b[39;00m\u001b[38;5;250m \u001b[39m\u001b[34;01mopen3d\u001b[39;00m\u001b[38;5;250m \u001b[39m\u001b[38;5;28;01mas\u001b[39;00m\u001b[38;5;250m \u001b[39m\u001b[34;01mo3d\u001b[39;00m\n\u001b[32m      3\u001b[39m \u001b[38;5;28;01mimport\u001b[39;00m\u001b[38;5;250m \u001b[39m\u001b[34;01mmatplotlib\u001b[39;00m\u001b[34;01m.\u001b[39;00m\u001b[34;01mpyplot\u001b[39;00m\u001b[38;5;250m \u001b[39m\u001b[38;5;28;01mas\u001b[39;00m\u001b[38;5;250m \u001b[39m\u001b[34;01mplt\u001b[39;00m\n\u001b[32m----> \u001b[39m\u001b[32m4\u001b[39m \u001b[38;5;28;01mfrom\u001b[39;00m\u001b[38;5;250m \u001b[39m\u001b[34;01msrc\u001b[39;00m\u001b[34;01m.\u001b[39;00m\u001b[34;01mmemory\u001b[39;00m\u001b[34;01m.\u001b[39;00m\u001b[34;01mvoxel_memory\u001b[39;00m\u001b[38;5;250m \u001b[39m\u001b[38;5;28;01mimport\u001b[39;00m VoxelMemory\n\u001b[32m      5\u001b[39m \u001b[38;5;28;01mfrom\u001b[39;00m\u001b[38;5;250m \u001b[39m\u001b[34;01mscripts\u001b[39;00m\u001b[34;01m.\u001b[39;00m\u001b[34;01mgen_scenes\u001b[39;00m\u001b[38;5;250m \u001b[39m\u001b[38;5;28;01mimport\u001b[39;00m create_block_world, render_scene\n\u001b[32m      7\u001b[39m \u001b[38;5;66;03m# Camera intrinsic parameters\u001b[39;00m\n",
      "\u001b[31mModuleNotFoundError\u001b[39m: No module named 'src.memory'"
     ]
    }
   ],
   "source": [
    "\n",
    "import numpy as np\n",
    "import open3d as o3d\n",
    "import matplotlib.pyplot as plt\n",
    "from src.memory.voxel_memory import VoxelMemory\n",
    "from scripts.gen_scenes import create_block_world, render_scene\n",
    "\n",
    "# Camera intrinsic parameters\n",
    "width, height = 256, 256\n",
    "fx = fy = width\n",
    "cx, cy = width / 2, height / 2\n",
    "class Intrinsic:\n",
    "    def __init__(self, fx, fy, cx, cy):\n",
    "        self.fx, self.fy, self.cx, self.cy = fx, fy, cx, cy\n",
    "intrinsic = Intrinsic(fx, fy, cx, cy)"
   ]
  },
  {
   "cell_type": "code",
   "execution_count": null,
   "id": "34fa4e37",
   "metadata": {
    "vscode": {
     "languageId": "plaintext"
    }
   },
   "outputs": [],
   "source": [
    "# Cell 3: Generate scene and render RGB-D\n",
    "mesh = create_block_world(size=16, num_blocks=30)\n",
    "pose = np.eye(4)\n",
    "pose[:3,3] = [30, 30, 30]\n",
    "rgb, depth = render_scene(mesh, pose, width=width, height=height)\n",
    "\n",
    "plt.figure(figsize=(8,4))\n",
    "plt.subplot(1,2,1)\n",
    "plt.title(\"RGB\")\n",
    "plt.imshow(rgb)\n",
    "plt.axis('off')\n",
    "plt.subplot(1,2,2)\n",
    "plt.title(\"Depth\")\n",
    "plt.imshow(depth, cmap=\"gray\")\n",
    "plt.axis('off')\n",
    "plt.show()"
   ]
  },
  {
   "cell_type": "code",
   "execution_count": null,
   "id": "11514fc7",
   "metadata": {
    "vscode": {
     "languageId": "plaintext"
    }
   },
   "outputs": [],
   "source": [
    "# Cell 4: Update VoxelMemory and query depth hint\n",
    "mem = VoxelMemory(dims=(32,32,32), voxel_size=1.0)\n",
    "mem.update(pose, rgb, depth, intrinsic)\n",
    "depth_hint = mem.query(pose, intrinsic, view_size=(height, width))\n",
    "\n",
    "plt.figure(figsize=(4,4))\n",
    "plt.title(\"Depth Hint\")\n",
    "plt.imshow(depth_hint, cmap=\"viridis\")\n",
    "plt.axis('off')\n",
    "plt.show()\n",
    "```\n",
    "\n",
    "```python\n",
    "# Cell 5: Save ground-truth and hint maps\n",
    "import os\n",
    "os.makedirs(\"data/phase1\", exist_ok=True)\n",
    "np.save(\"data/phase1/depth_gt.npy\", depth)\n",
    "np.save(\"data/phase1/depth_hint.npy\", depth_hint)"
   ]
  }
 ],
 "metadata": {
  "kernelspec": {
   "display_name": "Python 3 (ipykernel)",
   "language": "python",
   "name": "python3"
  },
  "language_info": {
   "codemirror_mode": {
    "name": "ipython",
    "version": 3
   },
   "file_extension": ".py",
   "mimetype": "text/x-python",
   "name": "python",
   "nbconvert_exporter": "python",
   "pygments_lexer": "ipython3",
   "version": "3.12.6"
  }
 },
 "nbformat": 4,
 "nbformat_minor": 5
}
