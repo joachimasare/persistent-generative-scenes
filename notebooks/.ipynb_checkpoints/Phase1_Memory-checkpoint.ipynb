{
 "cells": [
  {
   "cell_type": "code",
   "execution_count": null,
   "id": "23ec247a",
   "metadata": {
    "vscode": {
     "languageId": "plaintext"
    }
   },
   "outputs": [],
   "source": [
    "# Clone your GitHub repo\n",
    "!git clone https://github.com/joachimasare/persistent-generative-scenes.git\n",
    "%cd persistent-generative-scenes\n",
    "\n",
    "# Install dependencies\n",
    "!pip install -r requirements.txt\n"
   ]
  },
  {
   "cell_type": "code",
   "execution_count": null,
   "id": "b8474c14",
   "metadata": {
    "vscode": {
     "languageId": "plaintext"
    }
   },
   "outputs": [],
   "source": [
    "import numpy as np\n",
    "import open3d as o3d\n",
    "import matplotlib.pyplot as plt\n",
    "from src.memory.voxel_memory import VoxelMemory\n",
    "from scripts.gen_scenes import create_block_world, render_scene\n",
    "\n",
    "# Camera intrinsic parameters\n",
    "width, height = 256, 256\n",
    "fx = fy = width\n",
    "cx, cy = width / 2, height / 2\n",
    "class Intrinsic:\n",
    "    def __init__(self, fx, fy, cx, cy):\n",
    "        self.fx, self.fy, self.cx, self.cy = fx, fy, cx, cy\n",
    "intrinsic = Intrinsic(fx, fy, cx, cy)"
   ]
  },
  {
   "cell_type": "code",
   "execution_count": null,
   "id": "34fa4e37",
   "metadata": {
    "vscode": {
     "languageId": "plaintext"
    }
   },
   "outputs": [],
   "source": [
    "# Cell 3: Generate scene and render RGB-D\n",
    "mesh = create_block_world(size=16, num_blocks=30)\n",
    "pose = np.eye(4)\n",
    "pose[:3,3] = [30, 30, 30]\n",
    "rgb, depth = render_scene(mesh, pose, width=width, height=height)\n",
    "\n",
    "plt.figure(figsize=(8,4))\n",
    "plt.subplot(1,2,1)\n",
    "plt.title(\"RGB\")\n",
    "plt.imshow(rgb)\n",
    "plt.axis('off')\n",
    "plt.subplot(1,2,2)\n",
    "plt.title(\"Depth\")\n",
    "plt.imshow(depth, cmap=\"gray\")\n",
    "plt.axis('off')\n",
    "plt.show()"
   ]
  },
  {
   "cell_type": "code",
   "execution_count": null,
   "id": "11514fc7",
   "metadata": {
    "vscode": {
     "languageId": "plaintext"
    }
   },
   "outputs": [],
   "source": [
    "# Cell 4: Update VoxelMemory and query depth hint\n",
    "mem = VoxelMemory(dims=(32,32,32), voxel_size=1.0)\n",
    "mem.update(pose, rgb, depth, intrinsic)\n",
    "depth_hint = mem.query(pose, intrinsic, view_size=(height, width))\n",
    "\n",
    "plt.figure(figsize=(4,4))\n",
    "plt.title(\"Depth Hint\")\n",
    "plt.imshow(depth_hint, cmap=\"viridis\")\n",
    "plt.axis('off')\n",
    "plt.show()\n",
    "```\n",
    "\n",
    "```python\n",
    "# Cell 5: Save ground-truth and hint maps\n",
    "import os\n",
    "os.makedirs(\"data/phase1\", exist_ok=True)\n",
    "np.save(\"data/phase1/depth_gt.npy\", depth)\n",
    "np.save(\"data/phase1/depth_hint.npy\", depth_hint)"
   ]
  }
 ],
 "metadata": {
  "language_info": {
   "name": "python"
  }
 },
 "nbformat": 4,
 "nbformat_minor": 5
}
